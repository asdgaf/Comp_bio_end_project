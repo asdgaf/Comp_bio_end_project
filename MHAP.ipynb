{
 "cells": [
  {
   "cell_type": "code",
   "execution_count": 1,
   "id": "5ca19054",
   "metadata": {},
   "outputs": [],
   "source": [
    "import random\n",
    "import hashlib\n",
    "from Bio import SeqIO, Seq, SeqRecord\n",
    "import mmh3\n",
    "import numpy as np\n",
    "from sklearn.model_selection import train_test_split\n",
    "from sklearn.ensemble import RandomForestClassifier\n",
    "from sklearn.metrics import classification_report, confusion_matrix\n",
    "import matplotlib.pyplot as plt\n",
    "import seaborn as sns\n",
    "import pandas as pd"
   ]
  },
  {
   "cell_type": "markdown",
   "id": "d45df8d4",
   "metadata": {},
   "source": [
    "Simulate reads"
   ]
  },
  {
   "cell_type": "code",
   "execution_count": 2,
   "id": "017a7928",
   "metadata": {},
   "outputs": [],
   "source": [
    "def load_reference_genome(fasta_path):\n",
    "    return SeqIO.to_dict(SeqIO.parse(fasta_path, \"fasta\"))\n",
    "\n",
    "def introduce_errors(sequence, sub_rate=0.01, ins_rate=0.1, del_rate=0.02):\n",
    "    \"\"\"Introduce substitution, insertion, and deletion errors.\"\"\"\n",
    "    bases = ['A', 'C', 'G', 'T']\n",
    "    i = 0\n",
    "    result = []\n",
    "\n",
    "    while i < len(sequence):\n",
    "        r = random.random()\n",
    "        if r < sub_rate:\n",
    "            # Substitution\n",
    "            original = sequence[i].upper()\n",
    "            alt = random.choice([b for b in bases if b != original])\n",
    "            result.append(alt)\n",
    "            i += 1\n",
    "        elif r < sub_rate + ins_rate:\n",
    "            # Insertion\n",
    "            result.append(random.choice(bases))\n",
    "            # no increment\n",
    "        elif r < sub_rate + ins_rate + del_rate:\n",
    "            # Deletion\n",
    "            i += 1\n",
    "        else:\n",
    "            result.append(sequence[i].upper())\n",
    "            i += 1\n",
    "    return ''.join(result)\n",
    "\n",
    "def simulate_read(genome, chrom, read_length=150, sub_rate=0.01, ins_rate=0.1, del_rate=0.02):\n",
    "    \"\"\"Simulate a single read with errors.\"\"\"\n",
    "    # chrom = random.choice(list(genome.keys()))\n",
    "    seq = str(genome[chrom].seq)\n",
    "    if len(seq) <= read_length:\n",
    "        raise ValueError(f\"Chromosome {chrom} is shorter than the read length.\")\n",
    "    length = min(len(seq), 20000) # Limit to 20kb\n",
    "    start = random.randint(0, length - read_length)\n",
    "    read_seq = seq[start:start + read_length]\n",
    "    error_seq = introduce_errors(read_seq, sub_rate, ins_rate, del_rate)\n",
    "    return chrom, start, error_seq\n",
    "\n",
    "def write_fasta(reads, output_path):\n",
    "    with open(output_path, \"w\") as f:\n",
    "        for i, (chrom, start, seq) in enumerate(reads):\n",
    "            seq = seq.upper()  # Ensure all uppercase\n",
    "            header = f\">sim_read_{chrom}_{start}_{i}\"\n",
    "            f.write(f\"{header}\\n{seq}\\n\")\n"
   ]
  },
  {
   "cell_type": "code",
   "execution_count": 3,
   "id": "d0f6ba41",
   "metadata": {},
   "outputs": [],
   "source": [
    "g = load_reference_genome(\"dros_1.fna\")"
   ]
  },
  {
   "cell_type": "markdown",
   "id": "ef37a8f9",
   "metadata": {},
   "source": [
    "This shows all the completed sequences in the reference genome"
   ]
  },
  {
   "cell_type": "code",
   "execution_count": 4,
   "id": "9f8b0b56",
   "metadata": {},
   "outputs": [
    {
     "name": "stdout",
     "output_type": "stream",
     "text": [
      "NC_004354.4: 23542271 bp\n",
      "NC_004353.4: 1348131 bp\n",
      "NC_024512.1: 3667352 bp\n",
      "NC_024511.2: 19524 bp\n"
     ]
    }
   ],
   "source": [
    "l = {}\n",
    "for chrom, record in g.items():\n",
    "    if chrom[0] == 'N' and chrom[1] == 'C':\n",
    "        print(f\"{chrom}: {len(record.seq)} bp\")\n",
    "        l[chrom] = record"
   ]
  },
  {
   "cell_type": "code",
   "execution_count": 5,
   "id": "ab4f5864",
   "metadata": {},
   "outputs": [
    {
     "name": "stdout",
     "output_type": "stream",
     "text": [
      "Generated 200 simulated reads in FASTA format: simulated_reads.fasta\n"
     ]
    }
   ],
   "source": [
    "fasta_path = \"dros_1.fna\"\n",
    "output_fasta = \"simulated_reads.fasta\"\n",
    "num_reads = 200\n",
    "read_length = 500 #10x coverage\n",
    "\n",
    "genome = load_reference_genome(fasta_path)\n",
    "reads = []\n",
    "\n",
    "for _ in range(num_reads):\n",
    "    chrom, start, read = simulate_read(genome, \"NC_024511.2\", read_length)\n",
    "    reads.append((chrom, start, read))\n",
    "\n",
    "write_fasta(reads, output_fasta)\n",
    "\n",
    "\n",
    "print(f\"Generated {num_reads} simulated reads in FASTA format: {output_fasta}\")"
   ]
  },
  {
   "cell_type": "code",
   "execution_count": 6,
   "id": "c1eb1bb4",
   "metadata": {},
   "outputs": [],
   "source": [
    "reads = load_reference_genome(\"simulated_reads.fasta\")\n",
    "# reads.items()\n"
   ]
  },
  {
   "cell_type": "markdown",
   "id": "79705c04",
   "metadata": {},
   "source": [
    "Compute MinHash"
   ]
  },
  {
   "cell_type": "code",
   "execution_count": 7,
   "id": "85c39e61",
   "metadata": {},
   "outputs": [],
   "source": [
    "def getkmers(sequence, k):\n",
    "    return [sequence.seq[i:i + k] for i in range(len(sequence.seq) - k + 1)]\n",
    "\n",
    "def minhash_signature(kmer_set, num_hashes):\n",
    "    signature = []\n",
    "    for i in range(num_hashes):\n",
    "        min_hash = float('inf')\n",
    "        for kmer in kmer_set:\n",
    "            h = mmh3.hash(str(kmer), seed=i) & 0xffffffff\n",
    "            min_hash = min(min_hash, h)\n",
    "        signature.append(min_hash)\n",
    "    return signature\n",
    "\n",
    "def jaccard_estimate(sig1, sig2):\n",
    "    return sum(a == b for a, b in zip(sig1, sig2)) / len(sig1)\n",
    "\n",
    "def verify_pairs(read1, read2, read_length=500):\n",
    "    indx1 = int(read1.split(\"_\")[4])\n",
    "    indx2 = int(read2.split(\"_\")[4])\n",
    "    if abs(indx1 - indx2) <= read_length and abs(indx1 - indx2) > 50:\n",
    "        return True\n",
    "    return False"
   ]
  },
  {
   "cell_type": "markdown",
   "id": "d65d4c4d",
   "metadata": {},
   "source": [
    "Calculate MinHash"
   ]
  },
  {
   "cell_type": "code",
   "execution_count": 8,
   "id": "425f6fd2",
   "metadata": {},
   "outputs": [],
   "source": [
    "matches = []\n",
    "num_hashes = 512\n",
    "count = 0\n",
    "sig = {}\n",
    "for key in reads.keys():\n",
    "    sig[key] = minhash_signature(getkmers(reads[key], 8), num_hashes)\n",
    "for i, key in enumerate(reads.keys()):\n",
    "    for j, key2 in enumerate(reads.keys()):\n",
    "        if i >= j:\n",
    "            continue\n",
    "        matches.append((key, key2, jaccard_estimate(sig[key], sig[key2])))"
   ]
  },
  {
   "cell_type": "code",
   "execution_count": 9,
   "id": "ed4a56b5",
   "metadata": {},
   "outputs": [
    {
     "name": "stdout",
     "output_type": "stream",
     "text": [
      "Number of matches: 956\n",
      "Total pairs: 19900\n"
     ]
    }
   ],
   "source": [
    "# matchesfile = \"jacc_f_big.txt\"\n",
    "# with open(matchesfile, \"w\") as f:\n",
    "#     for match in matches:\n",
    "#         f.write(f\"{match[0]}\\t{match[1]}\\t{match[2]}\\n\")\n",
    "count = 0\n",
    "for key1, key2, jaccard in matches:\n",
    "    if verify_pairs(key1, key2):\n",
    "        count += 1\n",
    "print(f\"Number of matches: {count}\")\n",
    "print(f\"Total pairs: {len(matches)}\")\n",
    "ac_pairs_read = count\n",
    "pairs_read = len(matches)"
   ]
  },
  {
   "cell_type": "code",
   "execution_count": 10,
   "id": "b70d4726",
   "metadata": {},
   "outputs": [
    {
     "name": "stdout",
     "output_type": "stream",
     "text": [
      "954\n",
      "18712\n"
     ]
    }
   ],
   "source": [
    "threshold = 0.01\n",
    "count = 0\n",
    "jacc_scores = []\n",
    "for key, key2, jaccard in matches:\n",
    "    if float(jaccard) > threshold:\n",
    "        jacc_scores.append((key, key2, jaccard))\n",
    "        if verify_pairs(key, key2):\n",
    "            count += 1\n",
    "print(count)\n",
    "print(len(jacc_scores))\n",
    "ac_pairs_mh = count\n",
    "pairs_mh = len(jacc_scores)"
   ]
  },
  {
   "cell_type": "code",
   "execution_count": 11,
   "id": "d5b14f34",
   "metadata": {},
   "outputs": [],
   "source": [
    "# threshold = 0.01\n",
    "# count = 0\n",
    "# jacc_scores = []\n",
    "# with open(\"jacc_f.txt\", \"r\") as f:\n",
    "#     lines = f.readlines()\n",
    "#     for line in lines:\n",
    "#         key, key2, jaccard = line.strip().split(\"\\t\")\n",
    "#         if float(jaccard) > threshold:\n",
    "#             jacc_scores.append((key, key2, jaccard))\n",
    "#             count += 1\n",
    "# print(count)\n"
   ]
  },
  {
   "cell_type": "markdown",
   "id": "ede7c5c4",
   "metadata": {},
   "source": [
    "Calculate Overlaps"
   ]
  },
  {
   "cell_type": "code",
   "execution_count": 12,
   "id": "1fd4ca94",
   "metadata": {},
   "outputs": [
    {
     "name": "stdout",
     "output_type": "stream",
     "text": [
      "6412\n",
      "correct:  715\n"
     ]
    }
   ],
   "source": [
    "overlaps = []\n",
    "for key, key2, jaccard in jacc_scores:\n",
    "    kmers1 = getkmers(reads[key], 8)\n",
    "    kmers2 = getkmers(reads[key2], 8)\n",
    "    sim_count = 0\n",
    "    indexes = []\n",
    "    s = {}\n",
    "    for i, kmer in enumerate(kmers1):\n",
    "        s[kmer] = i\n",
    "    for i, kmer in enumerate(kmers2):\n",
    "        if kmer in s.keys():\n",
    "            sim_count += 1\n",
    "            indexes.append((s[kmer], i))\n",
    "    median = np.median([j-i for i, j in indexes])\n",
    "    s = {}\n",
    "    sim_count = 0\n",
    "    start = 10000000 #arbitrarily large\n",
    "    end = -1\n",
    "    if median>0:\n",
    "        for i, kmer in enumerate(kmers1):\n",
    "            if i < len(kmers1) - int(median*1.3)+8:\n",
    "                continue\n",
    "            s[kmer] = i\n",
    "        for i, kmer in enumerate(kmers2):\n",
    "            if i > int(median*1.3) - 8:\n",
    "                break\n",
    "            if kmer in s.keys():\n",
    "                sim_count += 1\n",
    "                start = min(start, s[kmer]-8)  #k = 8\n",
    "                end = max(end, i+8)  #k = 8\n",
    "        if(sim_count>0):\n",
    "            # print(key, key2, start, end, median, sim_count, 2*sim_count/(end+start))\n",
    "            overlaps.append((key, key2, start, end, median, sim_count))\n",
    "    else:\n",
    "        for i, kmer in enumerate(kmers2):\n",
    "            if i < len(kmers1) + int(median*1.3)+8:\n",
    "                continue\n",
    "            s[kmer] = i\n",
    "        for i, kmer in enumerate(kmers1):\n",
    "            if i > -int(median*1.3) - 8:\n",
    "                break\n",
    "            if kmer in s.keys():\n",
    "                sim_count += 1\n",
    "                start = min(start, s[kmer]-8)\n",
    "                end = max(end, i+8)\n",
    "        if(sim_count>0):\n",
    "            # print(key2, key, start, end, median, sim_count, 2*sim_count/(end+start))\n",
    "            overlaps.append((key2, key, start, end, median, sim_count))\n",
    "    \n",
    "print(len(overlaps))\n",
    "count = 0\n",
    "for key, key2, start, end, median, sim_count in overlaps:\n",
    "    if verify_pairs(key, key2):\n",
    "        count += 1\n",
    "print(\"correct: \",count)\n",
    "pairs_ck = len(overlaps)"
   ]
  },
  {
   "cell_type": "code",
   "execution_count": 13,
   "id": "3d32b5fb",
   "metadata": {},
   "outputs": [],
   "source": [
    "def verify_overlap(key, key2, start, end):\n",
    "    if start < 0 or end < 0:\n",
    "        return False\n",
    "    indx1 = int(key.split(\"_\")[4]) # the string contains the index from which the read was taken\n",
    "    indx2 = int(key2.split(\"_\")[4])\n",
    "    avg = (start + end)/2\n",
    "    if (indx1 - indx2 > avg - 200) and (indx1 - indx2 < avg + 200):\n",
    "        return True\n",
    "    return False"
   ]
  },
  {
   "cell_type": "code",
   "execution_count": 14,
   "id": "3690a9fa",
   "metadata": {},
   "outputs": [
    {
     "name": "stdout",
     "output_type": "stream",
     "text": [
      "detected & correct: 574\n",
      "conf_overlaps: 682\n",
      "293\n"
     ]
    }
   ],
   "source": [
    "count = 0\n",
    "for key, key2, start, end, median, sim_count in overlaps:\n",
    "    if verify_overlap(key, key2, start, end):\n",
    "        count += 1\n",
    "print(\"detected & correct:\", count)\n",
    "ac_pairs_ck = count\n",
    "count = 0\n",
    "conf_overlaps = [i for i in overlaps if (2*i[5])/(i[2]+i[3]) > 0.03]\n",
    "print(f\"conf_overlaps: {len(conf_overlaps)}\")\n",
    "pairs_sim = len(conf_overlaps)\n",
    "for key, key2, start, end, median, sim_count in conf_overlaps:\n",
    "    if verify_overlap(key, key2, start, end):\n",
    "        # print(key, key2, start, end, median, sim_count)\n",
    "        count += 1\n",
    "    # else:\n",
    "        # print(key, key2, start, end, median, sim_count)\n",
    "print(count)\n",
    "ac_pairs_sim = count"
   ]
  },
  {
   "cell_type": "markdown",
   "id": "16569436",
   "metadata": {},
   "source": [
    "Train classifier"
   ]
  },
  {
   "cell_type": "code",
   "execution_count": 15,
   "id": "486d382d",
   "metadata": {},
   "outputs": [
    {
     "name": "stdout",
     "output_type": "stream",
     "text": [
      "              precision    recall  f1-score   support\n",
      "\n",
      "           0       0.88      0.90      0.89        78\n",
      "           1       0.86      0.83      0.84        59\n",
      "\n",
      "    accuracy                           0.87       137\n",
      "   macro avg       0.87      0.86      0.87       137\n",
      "weighted avg       0.87      0.87      0.87       137\n",
      "\n",
      "[[70  8]\n",
      " [10 49]]\n",
      "Accuracy: 0.8686131386861314\n"
     ]
    }
   ],
   "source": [
    "x = []\n",
    "y = []\n",
    "\n",
    "for key, key2, start, end, median, sim_count in conf_overlaps:\n",
    "    if verify_overlap(key, key2, start, end):\n",
    "        x.append([start, end, median, 2*sim_count/(end+start)])\n",
    "        y.append(1)\n",
    "    else:\n",
    "        x.append([start, end, median, 2*sim_count/(end+start)])\n",
    "        y.append(0)\n",
    "\n",
    "x_train, x_test, y_train, y_test = train_test_split(x, y, test_size=0.2, stratify=y, random_state=42)\n",
    "rf = RandomForestClassifier(n_estimators=100, random_state=42, class_weight='balanced')\n",
    "rf.fit(x_train, y_train)\n",
    "y_pred = rf.predict(x_test)\n",
    "print(classification_report(y_test, y_pred))\n",
    "print(confusion_matrix(y_test, y_pred))\n",
    "print(\"Accuracy:\", rf.score(x_test, y_test))\n"
   ]
  },
  {
   "cell_type": "code",
   "execution_count": 16,
   "id": "d648644a",
   "metadata": {},
   "outputs": [
    {
     "data": {
      "image/png": "[encoded data removed]",
      "text/plain": [
       "<Figure size 1000x500 with 1 Axes>"
      ]
     },
     "metadata": {},
     "output_type": "display_data"
    }
   ],
   "source": [
    "importances = rf.feature_importances_\n",
    "feature_names = [\"start\", \"end\", \"median\", \"sim_count\"]\n",
    "sorted_indices = importances.argsort()[::-1]\n",
    "\n",
    "plt.figure(figsize=(10, 5))\n",
    "plt.title(\"Feature Importances\")\n",
    "plt.bar(range(4), importances[sorted_indices], align='center')\n",
    "plt.xticks(range(4), [feature_names[i] for i in sorted_indices], rotation=45)\n",
    "plt.tight_layout()\n",
    "plt.show()"
   ]
  },
  {
   "cell_type": "code",
   "execution_count": 17,
   "id": "957f2fdd",
   "metadata": {},
   "outputs": [
    {
     "data": {
      "image/png": "[encoded data removed]",
      "text/plain": [
       "<Figure size 600x500 with 2 Axes>"
      ]
     },
     "metadata": {},
     "output_type": "display_data"
    }
   ],
   "source": [
    "labels = [\"No Overlap\", \"Overlap\"]\n",
    "plt.figure(figsize=(6, 5))\n",
    "sns.heatmap(confusion_matrix(y_test, y_pred), annot=True, fmt='d', cmap='Blues', xticklabels=labels, yticklabels=labels)\n",
    "plt.xlabel(\"Predicted Label\")\n",
    "plt.ylabel(\"True Label\")\n",
    "plt.title(\"Confusion Matrix\")\n",
    "plt.tight_layout()\n",
    "plt.show()"
   ]
  },
  {
   "cell_type": "markdown",
   "id": "10a49ea0",
   "metadata": {},
   "source": [
    "Do the same for another input for testing"
   ]
  },
  {
   "cell_type": "code",
   "execution_count": 18,
   "id": "3dcc3b19",
   "metadata": {},
   "outputs": [
    {
     "name": "stdout",
     "output_type": "stream",
     "text": [
      "Generated 200 simulated reads in FASTA format: test_reads.fasta\n"
     ]
    }
   ],
   "source": [
    "fasta_path = \"dros_1.fna\"\n",
    "output_fasta = \"test_reads.fasta\"\n",
    "num_reads = 200\n",
    "read_length = 500 #10x coverage\n",
    "\n",
    "genome = load_reference_genome(fasta_path)\n",
    "reads = []\n",
    "\n",
    "for _ in range(num_reads):\n",
    "    chrom, start, read = simulate_read(genome, \"NC_004353.4\", read_length)\n",
    "    reads.append((chrom, start, read))\n",
    "\n",
    "write_fasta(reads, output_fasta)\n",
    "\n",
    "\n",
    "print(f\"Generated {num_reads} simulated reads in FASTA format: {output_fasta}\")"
   ]
  },
  {
   "cell_type": "code",
   "execution_count": 19,
   "id": "36bacd97",
   "metadata": {},
   "outputs": [],
   "source": [
    "reads = load_reference_genome(\"test_reads.fasta\")\n",
    "# reads.items()"
   ]
  },
  {
   "cell_type": "code",
   "execution_count": 20,
   "id": "302c97c0",
   "metadata": {},
   "outputs": [],
   "source": [
    "matches = []\n",
    "num_hashes = 512\n",
    "count = 0\n",
    "sig = {}\n",
    "for key in reads.keys():\n",
    "    sig[key] = minhash_signature(getkmers(reads[key], 8), num_hashes)\n",
    "for i, key in enumerate(reads.keys()):\n",
    "    for j, key2 in enumerate(reads.keys()):\n",
    "        if i >= j:\n",
    "            continue\n",
    "        matches.append((key, key2, jaccard_estimate(sig[key], sig[key2])))"
   ]
  },
  {
   "cell_type": "code",
   "execution_count": 21,
   "id": "c5c37bbb",
   "metadata": {},
   "outputs": [
    {
     "name": "stdout",
     "output_type": "stream",
     "text": [
      "6095\n"
     ]
    }
   ],
   "source": [
    "threshold = 0.01\n",
    "count = 0\n",
    "jacc_scores = []\n",
    "for key, key2, jaccard in matches:\n",
    "    if float(jaccard) > threshold:\n",
    "        jacc_scores.append((key, key2, jaccard))\n",
    "        count += 1\n",
    "print(count)"
   ]
  },
  {
   "cell_type": "code",
   "execution_count": 22,
   "id": "b4c8ecf0",
   "metadata": {},
   "outputs": [
    {
     "name": "stdout",
     "output_type": "stream",
     "text": [
      "2026\n"
     ]
    }
   ],
   "source": [
    "overlaps = []\n",
    "for key, key2, jaccard in jacc_scores:\n",
    "    kmers1 = getkmers(reads[key], 8)\n",
    "    kmers2 = getkmers(reads[key2], 8)\n",
    "    sim_count = 0\n",
    "    indexes = []\n",
    "    s = {}\n",
    "    for i, kmer in enumerate(kmers1):\n",
    "        s[kmer] = i\n",
    "    for i, kmer in enumerate(kmers2):\n",
    "        if kmer in s.keys():\n",
    "            sim_count += 1\n",
    "            indexes.append((s[kmer], i))\n",
    "    median = np.median([j-i for i, j in indexes])\n",
    "    s = {}\n",
    "    sim_count = 0\n",
    "    start = 10000000 #arbitrarily large\n",
    "    end = -1\n",
    "    if median>0:\n",
    "        for i, kmer in enumerate(kmers1):\n",
    "            if i < len(kmers1) - int(median*1.3)+8:\n",
    "                continue\n",
    "            s[kmer] = i\n",
    "        for i, kmer in enumerate(kmers2):\n",
    "            if i > int(median*1.3) - 8:\n",
    "                break\n",
    "            if kmer in s.keys():\n",
    "                sim_count += 1\n",
    "                start = min(start, s[kmer]-8)  #k = 8\n",
    "                end = max(end, i+8)  #k = 8\n",
    "        if(sim_count>0):\n",
    "            # print(key, key2, start, end, median, sim_count, 2*sim_count/(end+start))\n",
    "            overlaps.append((key, key2, start, end, median, sim_count))\n",
    "    else:\n",
    "        for i, kmer in enumerate(kmers2):\n",
    "            if i < len(kmers1) + int(median*1.3)+8:\n",
    "                continue\n",
    "            s[kmer] = i\n",
    "        for i, kmer in enumerate(kmers1):\n",
    "            if i > -int(median*1.3) - 8:\n",
    "                break\n",
    "            if kmer in s.keys():\n",
    "                sim_count += 1\n",
    "                start = min(start, s[kmer]-8)\n",
    "                end = max(end, i+8)\n",
    "        if(sim_count>0):\n",
    "            # print(key2, key, start, end, median, sim_count, 2*sim_count/(end+start))\n",
    "            overlaps.append((key2, key, start, end, median, sim_count))\n",
    "    \n",
    "print(len(overlaps))\n"
   ]
  },
  {
   "cell_type": "code",
   "execution_count": 23,
   "id": "9f299b30",
   "metadata": {},
   "outputs": [
    {
     "name": "stdout",
     "output_type": "stream",
     "text": [
      "292\n",
      "175\n"
     ]
    }
   ],
   "source": [
    "count = 0\n",
    "conf_overlaps = [i for i in overlaps if (2*i[5])/(i[2]+i[3]) > 0.03]\n",
    "print(len(conf_overlaps))\n",
    "for key, key2, start, end, median, sim_count in conf_overlaps:\n",
    "    if verify_overlap(key, key2, start, end):\n",
    "        # print(key, key2, start, end, median, sim_count)\n",
    "        count += 1\n",
    "    # else:\n",
    "        # print(key, key2, start, end, median, sim_count)\n",
    "print(count)"
   ]
  },
  {
   "cell_type": "code",
   "execution_count": 24,
   "id": "89e2ef14",
   "metadata": {},
   "outputs": [
    {
     "name": "stdout",
     "output_type": "stream",
     "text": [
      "              precision    recall  f1-score   support\n",
      "\n",
      "           0       0.64      0.62      0.63       117\n",
      "           1       0.75      0.77      0.76       175\n",
      "\n",
      "    accuracy                           0.71       292\n",
      "   macro avg       0.70      0.69      0.70       292\n",
      "weighted avg       0.71      0.71      0.71       292\n",
      "\n",
      "[[ 73  44]\n",
      " [ 41 134]]\n",
      "Accuracy: 0.708904109589041\n"
     ]
    }
   ],
   "source": [
    "x = []\n",
    "y = []\n",
    "for key, key2, start, end, median, sim_count in conf_overlaps:\n",
    "    if verify_overlap(key, key2, start, end):\n",
    "        x.append([start, end, median, 2*sim_count/(end+start)])\n",
    "        y.append(1)\n",
    "    else:\n",
    "        x.append([start, end, median, 2*sim_count/(end+start)])\n",
    "        y.append(0)\n",
    "pred = rf.predict(x)\n",
    "print(classification_report(y, pred))\n",
    "print(confusion_matrix(y, pred))\n",
    "print(\"Accuracy:\", rf.score(x, y))"
   ]
  },
  {
   "cell_type": "code",
   "execution_count": 25,
   "id": "74a54f2e",
   "metadata": {},
   "outputs": [
    {
     "data": {
      "image/png": "[encoded data removed]",
      "text/plain": [
       "<Figure size 600x500 with 2 Axes>"
      ]
     },
     "metadata": {},
     "output_type": "display_data"
    }
   ],
   "source": [
    "labels = [\"No Overlap\", \"Overlap\"]\n",
    "plt.figure(figsize=(6, 5))\n",
    "sns.heatmap(confusion_matrix(y, pred), annot=True, fmt='d', cmap='Blues', xticklabels=labels, yticklabels=labels)\n",
    "plt.xlabel(\"Predicted Label\")\n",
    "plt.ylabel(\"True Label\")\n",
    "plt.title(\"Confusion Matrix\")\n",
    "plt.tight_layout()\n",
    "plt.show()"
   ]
  },
  {
   "cell_type": "code",
   "execution_count": 27,
   "id": "870499df",
   "metadata": {},
   "outputs": [
    {
     "data": {
      "image/png": "[encoded data removed]",
      "text/plain": [
       "<Figure size 1000x600 with 1 Axes>"
      ]
     },
     "metadata": {},
     "output_type": "display_data"
    }
   ],
   "source": [
    "dta = {\n",
    "    \"stage\": [\"Read\", \"MinHash\", \"CommonKmers\", \"Similarity\"],\n",
    "    \"pairs filtered\": [pairs_read, pairs_mh, pairs_ck, pairs_sim, ],\n",
    "    \"actual pairs\": [ac_pairs_read, ac_pairs_mh, ac_pairs_ck, ac_pairs_sim]\n",
    "}\n",
    "df_wide = pd.DataFrame(dta)\n",
    "\n",
    "df_long = pd.melt(df_wide, id_vars=\"stage\", \n",
    "                  value_vars=['pairs filtered', 'actual pairs'],\n",
    "                  var_name='pairs', value_name='Value')\n",
    "\n",
    "plt.figure(figsize=(10, 6))\n",
    "sns.barplot(data=df_long, x='stage', y='Value', hue='pairs', palette='Set2')\n",
    "\n",
    "# Add labels and title\n",
    "plt.title(\"Detected versus Actual Pairs\")\n",
    "plt.xlabel(\"Stages\")\n",
    "plt.ylabel(\"number of pairs\")\n",
    "plt.legend(title='Category')\n",
    "plt.tight_layout()\n",
    "plt.show()"
   ]
  },
  {
   "cell_type": "code",
   "execution_count": 28,
   "id": "fa9c9ee1",
   "metadata": {},
   "outputs": [
    {
     "data": {
      "image/png": "[encoded data removed]",
      "text/plain": [
       "<Figure size 800x500 with 1 Axes>"
      ]
     },
     "metadata": {},
     "output_type": "display_data"
    }
   ],
   "source": [
    "data = {\n",
    "    'Group': ['Read', 'MinHash', 'CommonKmers', 'Similarity'],\n",
    "    'Percent correct': [(ac_pairs_read/(pairs_read+ac_pairs_read))*100,\n",
    "                        (ac_pairs_mh/(pairs_mh+ac_pairs_mh))*100,\n",
    "                        (ac_pairs_ck/(pairs_ck+ac_pairs_ck))*100,\n",
    "                        (ac_pairs_sim/(pairs_sim+ac_pairs_sim))*100]\n",
    "}\n",
    "df = pd.DataFrame(data)\n",
    "\n",
    "sns.set_theme(style=\"whitegrid\")\n",
    "\n",
    "# Create bar plot\n",
    "plt.figure(figsize=(8, 5))\n",
    "sns.barplot(data=df, x='Group', y='Percent correct', color='skyblue')\n",
    "\n",
    "# Add labels and title\n",
    "plt.title(\"Percent Correct for Each Stage\")\n",
    "plt.xlabel(\"Stages\")\n",
    "plt.ylabel(\"Percent correct\")\n",
    "\n",
    "plt.tight_layout()\n",
    "plt.show()"
   ]
  }
 ],
 "metadata": {
  "kernelspec": {
   "display_name": "Python 3",
   "language": "python",
   "name": "python3"
  },
  "language_info": {
   "codemirror_mode": {
    "name": "ipython",
    "version": 3
   },
   "file_extension": ".py",
   "mimetype": "text/x-python",
   "name": "python",
   "nbconvert_exporter": "python",
   "pygments_lexer": "ipython3",
   "version": "3.13.2"
  }
 },
 "nbformat": 4,
 "nbformat_minor": 5
}
